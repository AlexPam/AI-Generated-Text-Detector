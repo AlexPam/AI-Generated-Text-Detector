{
 "cells": [
  {
   "cell_type": "code",
   "execution_count": 1,
   "outputs": [],
   "source": [
    "import pandas as pd\n",
    "import numpy as np\n",
    "import string\n",
    "import enchant\n",
    "import re\n",
    "import nltk\n",
    "from nltk.corpus import stopwords\n",
    "from nltk.stem import WordNetLemmatizer\n",
    "from sklearn.model_selection import train_test_split\n",
    "from sklearn.feature_extraction.text import TfidfVectorizer\n",
    "from xgboost import XGBClassifier\n",
    "from sklearn.metrics import accuracy_score, confusion_matrix, classification_report\n",
    "from sklearn.feature_extraction.text import TfidfTransformer\n"
   ],
   "metadata": {
    "collapsed": false,
    "ExecuteTime": {
     "start_time": "2023-05-13T19:49:05.446215Z",
     "end_time": "2023-05-13T19:49:34.083013Z"
    }
   }
  },
  {
   "cell_type": "code",
   "execution_count": 2,
   "outputs": [
    {
     "name": "stderr",
     "output_type": "stream",
     "text": [
      "[nltk_data] Downloading package wordnet to\n",
      "[nltk_data]     C:\\Users\\amosg\\AppData\\Roaming\\nltk_data...\n",
      "[nltk_data]   Package wordnet is already up-to-date!\n",
      "[nltk_data] Downloading package stopwords to\n",
      "[nltk_data]     C:\\Users\\amosg\\AppData\\Roaming\\nltk_data...\n",
      "[nltk_data]   Package stopwords is already up-to-date!\n"
     ]
    },
    {
     "data": {
      "text/plain": "True"
     },
     "execution_count": 2,
     "metadata": {},
     "output_type": "execute_result"
    }
   ],
   "source": [
    "nltk.download('wordnet')\n",
    "nltk.download('stopwords')\n"
   ],
   "metadata": {
    "collapsed": false,
    "ExecuteTime": {
     "start_time": "2023-05-13T12:52:04.806052Z",
     "end_time": "2023-05-13T12:52:07.714565Z"
    }
   }
  },
  {
   "cell_type": "code",
   "execution_count": 2,
   "outputs": [],
   "source": [
    "# Load and preprocess the data\n",
    "data_1 = pd.read_csv('GPT-wiki-intro.csv')\n"
   ],
   "metadata": {
    "collapsed": false,
    "ExecuteTime": {
     "start_time": "2023-05-13T19:49:39.460803Z",
     "end_time": "2023-05-13T19:50:01.883005Z"
    }
   }
  },
  {
   "cell_type": "code",
   "execution_count": 3,
   "outputs": [],
   "source": [
    "data_1['generated_text'] = data_1['generated_intro'] + ' ' + data_1['generated_text']"
   ],
   "metadata": {
    "collapsed": false,
    "ExecuteTime": {
     "start_time": "2023-05-13T19:50:09.140218Z",
     "end_time": "2023-05-13T19:50:13.552306Z"
    }
   }
  },
  {
   "cell_type": "code",
   "execution_count": 4,
   "outputs": [
    {
     "data": {
      "text/plain": "         id                                                url  \\\n0  63064638  https://en.wikipedia.org/wiki/Sexhow%20railway...   \n1    279621        https://en.wikipedia.org/wiki/Eti%C3%A4inen   \n\n                    title                                         wiki_intro  \\\n0  Sexhow railway station  Sexhow railway station was a railway station b...   \n1                Etiäinen  In Finnish folklore, all places and things, an...   \n\n                                     generated_intro  title_len  \\\n0  Sexhow railway station was a railway station l...          3   \n1  In Finnish folklore, all places and things, an...          1   \n\n   wiki_intro_len  generated_intro_len  \\\n0             174                   78   \n1             187                   80   \n\n                                              prompt  \\\n0  200 word wikipedia style introduction on 'Sexh...   \n1  200 word wikipedia style introduction on 'Etiä...   \n\n                                      generated_text  prompt_tokens  \\\n0  Sexhow railway station was a railway station l...             25   \n1  In Finnish folklore, all places and things, an...             26   \n\n   generated_text_tokens  \n0                     88  \n1                    101  ",
      "text/html": "<div>\n<style scoped>\n    .dataframe tbody tr th:only-of-type {\n        vertical-align: middle;\n    }\n\n    .dataframe tbody tr th {\n        vertical-align: top;\n    }\n\n    .dataframe thead th {\n        text-align: right;\n    }\n</style>\n<table border=\"1\" class=\"dataframe\">\n  <thead>\n    <tr style=\"text-align: right;\">\n      <th></th>\n      <th>id</th>\n      <th>url</th>\n      <th>title</th>\n      <th>wiki_intro</th>\n      <th>generated_intro</th>\n      <th>title_len</th>\n      <th>wiki_intro_len</th>\n      <th>generated_intro_len</th>\n      <th>prompt</th>\n      <th>generated_text</th>\n      <th>prompt_tokens</th>\n      <th>generated_text_tokens</th>\n    </tr>\n  </thead>\n  <tbody>\n    <tr>\n      <th>0</th>\n      <td>63064638</td>\n      <td>https://en.wikipedia.org/wiki/Sexhow%20railway...</td>\n      <td>Sexhow railway station</td>\n      <td>Sexhow railway station was a railway station b...</td>\n      <td>Sexhow railway station was a railway station l...</td>\n      <td>3</td>\n      <td>174</td>\n      <td>78</td>\n      <td>200 word wikipedia style introduction on 'Sexh...</td>\n      <td>Sexhow railway station was a railway station l...</td>\n      <td>25</td>\n      <td>88</td>\n    </tr>\n    <tr>\n      <th>1</th>\n      <td>279621</td>\n      <td>https://en.wikipedia.org/wiki/Eti%C3%A4inen</td>\n      <td>Etiäinen</td>\n      <td>In Finnish folklore, all places and things, an...</td>\n      <td>In Finnish folklore, all places and things, an...</td>\n      <td>1</td>\n      <td>187</td>\n      <td>80</td>\n      <td>200 word wikipedia style introduction on 'Etiä...</td>\n      <td>In Finnish folklore, all places and things, an...</td>\n      <td>26</td>\n      <td>101</td>\n    </tr>\n  </tbody>\n</table>\n</div>"
     },
     "execution_count": 4,
     "metadata": {},
     "output_type": "execute_result"
    }
   ],
   "source": [
    "data_1.head()"
   ],
   "metadata": {
    "collapsed": false,
    "ExecuteTime": {
     "start_time": "2023-05-13T19:50:24.580867Z",
     "end_time": "2023-05-13T19:50:25.658814Z"
    }
   }
  },
  {
   "cell_type": "code",
   "execution_count": 5,
   "outputs": [],
   "source": [
    "# drop the specified columns\n",
    "data_1 = data_1.drop(columns=['url','id', 'title_len', 'prompt', 'prompt_tokens','title','generated_text_tokens','generated_intro'])"
   ],
   "metadata": {
    "collapsed": false,
    "ExecuteTime": {
     "start_time": "2023-05-13T19:50:40.320353Z",
     "end_time": "2023-05-13T19:50:40.712713Z"
    }
   }
  },
  {
   "cell_type": "code",
   "execution_count": 6,
   "outputs": [
    {
     "data": {
      "text/plain": "                                          wiki_intro  wiki_intro_len  \\\n0  Sexhow railway station was a railway station b...             174   \n1  In Finnish folklore, all places and things, an...             187   \n\n   generated_intro_len                                     generated_text  \n0                   78  Sexhow railway station was a railway station l...  \n1                   80  In Finnish folklore, all places and things, an...  ",
      "text/html": "<div>\n<style scoped>\n    .dataframe tbody tr th:only-of-type {\n        vertical-align: middle;\n    }\n\n    .dataframe tbody tr th {\n        vertical-align: top;\n    }\n\n    .dataframe thead th {\n        text-align: right;\n    }\n</style>\n<table border=\"1\" class=\"dataframe\">\n  <thead>\n    <tr style=\"text-align: right;\">\n      <th></th>\n      <th>wiki_intro</th>\n      <th>wiki_intro_len</th>\n      <th>generated_intro_len</th>\n      <th>generated_text</th>\n    </tr>\n  </thead>\n  <tbody>\n    <tr>\n      <th>0</th>\n      <td>Sexhow railway station was a railway station b...</td>\n      <td>174</td>\n      <td>78</td>\n      <td>Sexhow railway station was a railway station l...</td>\n    </tr>\n    <tr>\n      <th>1</th>\n      <td>In Finnish folklore, all places and things, an...</td>\n      <td>187</td>\n      <td>80</td>\n      <td>In Finnish folklore, all places and things, an...</td>\n    </tr>\n  </tbody>\n</table>\n</div>"
     },
     "execution_count": 6,
     "metadata": {},
     "output_type": "execute_result"
    }
   ],
   "source": [
    "data_1.head(2)"
   ],
   "metadata": {
    "collapsed": false,
    "ExecuteTime": {
     "start_time": "2023-05-13T19:50:42.828062Z",
     "end_time": "2023-05-13T19:50:42.890549Z"
    }
   }
  },
  {
   "cell_type": "code",
   "execution_count": 7,
   "outputs": [],
   "source": [
    "# create a copy of the DataFrame\n",
    "data_2 = data_1.copy()"
   ],
   "metadata": {
    "collapsed": false,
    "ExecuteTime": {
     "start_time": "2023-05-13T19:50:45.231169Z",
     "end_time": "2023-05-13T19:50:45.293666Z"
    }
   }
  },
  {
   "cell_type": "code",
   "execution_count": 8,
   "outputs": [
    {
     "data": {
      "text/plain": "                                          wiki_intro  wiki_intro_len  \\\n0  Sexhow railway station was a railway station b...             174   \n1  In Finnish folklore, all places and things, an...             187   \n\n   generated_intro_len                                     generated_text  \n0                   78  Sexhow railway station was a railway station l...  \n1                   80  In Finnish folklore, all places and things, an...  ",
      "text/html": "<div>\n<style scoped>\n    .dataframe tbody tr th:only-of-type {\n        vertical-align: middle;\n    }\n\n    .dataframe tbody tr th {\n        vertical-align: top;\n    }\n\n    .dataframe thead th {\n        text-align: right;\n    }\n</style>\n<table border=\"1\" class=\"dataframe\">\n  <thead>\n    <tr style=\"text-align: right;\">\n      <th></th>\n      <th>wiki_intro</th>\n      <th>wiki_intro_len</th>\n      <th>generated_intro_len</th>\n      <th>generated_text</th>\n    </tr>\n  </thead>\n  <tbody>\n    <tr>\n      <th>0</th>\n      <td>Sexhow railway station was a railway station b...</td>\n      <td>174</td>\n      <td>78</td>\n      <td>Sexhow railway station was a railway station l...</td>\n    </tr>\n    <tr>\n      <th>1</th>\n      <td>In Finnish folklore, all places and things, an...</td>\n      <td>187</td>\n      <td>80</td>\n      <td>In Finnish folklore, all places and things, an...</td>\n    </tr>\n  </tbody>\n</table>\n</div>"
     },
     "execution_count": 8,
     "metadata": {},
     "output_type": "execute_result"
    }
   ],
   "source": [
    "data_2.head(2)"
   ],
   "metadata": {
    "collapsed": false,
    "ExecuteTime": {
     "start_time": "2023-05-13T19:50:46.854252Z",
     "end_time": "2023-05-13T19:50:46.932637Z"
    }
   }
  },
  {
   "cell_type": "markdown",
   "source": [
    "# Dealing with the First Data: AI Generated Text"
   ],
   "metadata": {
    "collapsed": false
   }
  },
  {
   "cell_type": "code",
   "execution_count": 9,
   "outputs": [],
   "source": [
    "# rename the DataFrame\n",
    "AI_generated = data_1"
   ],
   "metadata": {
    "collapsed": false,
    "ExecuteTime": {
     "start_time": "2023-05-13T19:50:49.311152Z",
     "end_time": "2023-05-13T19:50:49.326769Z"
    }
   }
  },
  {
   "cell_type": "code",
   "execution_count": 10,
   "outputs": [],
   "source": [
    "# drop the specified columns\n",
    "AI_generated = data_1.drop(columns=['wiki_intro','wiki_intro_len'])"
   ],
   "metadata": {
    "collapsed": false,
    "ExecuteTime": {
     "start_time": "2023-05-13T19:50:50.522726Z",
     "end_time": "2023-05-13T19:50:50.554001Z"
    }
   }
  },
  {
   "cell_type": "code",
   "execution_count": 11,
   "outputs": [],
   "source": [
    "# add a new column with all values equal to zero\n",
    "AI_generated = AI_generated.assign(new_col=0)\n",
    "# rename the 'output' column to 'new_output'\n",
    "AI_generated = AI_generated.rename(columns={'new_col': 'output'})"
   ],
   "metadata": {
    "collapsed": false,
    "ExecuteTime": {
     "start_time": "2023-05-13T19:50:51.355478Z",
     "end_time": "2023-05-13T19:50:51.433707Z"
    }
   }
  },
  {
   "cell_type": "code",
   "execution_count": 12,
   "outputs": [
    {
     "data": {
      "text/plain": "   generated_intro_len                                     generated_text  \\\n0                   78  Sexhow railway station was a railway station l...   \n1                   80  In Finnish folklore, all places and things, an...   \n\n   output  \n0       0  \n1       0  ",
      "text/html": "<div>\n<style scoped>\n    .dataframe tbody tr th:only-of-type {\n        vertical-align: middle;\n    }\n\n    .dataframe tbody tr th {\n        vertical-align: top;\n    }\n\n    .dataframe thead th {\n        text-align: right;\n    }\n</style>\n<table border=\"1\" class=\"dataframe\">\n  <thead>\n    <tr style=\"text-align: right;\">\n      <th></th>\n      <th>generated_intro_len</th>\n      <th>generated_text</th>\n      <th>output</th>\n    </tr>\n  </thead>\n  <tbody>\n    <tr>\n      <th>0</th>\n      <td>78</td>\n      <td>Sexhow railway station was a railway station l...</td>\n      <td>0</td>\n    </tr>\n    <tr>\n      <th>1</th>\n      <td>80</td>\n      <td>In Finnish folklore, all places and things, an...</td>\n      <td>0</td>\n    </tr>\n  </tbody>\n</table>\n</div>"
     },
     "execution_count": 12,
     "metadata": {},
     "output_type": "execute_result"
    }
   ],
   "source": [
    "AI_generated.head(2)"
   ],
   "metadata": {
    "collapsed": false,
    "ExecuteTime": {
     "start_time": "2023-05-13T19:50:52.376758Z",
     "end_time": "2023-05-13T19:50:52.423621Z"
    }
   }
  },
  {
   "cell_type": "markdown",
   "source": [
    "# Dealing with the second data: Wiki Generated Text\n"
   ],
   "metadata": {
    "collapsed": false
   }
  },
  {
   "cell_type": "code",
   "execution_count": 13,
   "outputs": [],
   "source": [
    "# rename the DataFrame\n",
    "wiki_generated = data_2"
   ],
   "metadata": {
    "collapsed": false,
    "ExecuteTime": {
     "start_time": "2023-05-13T19:50:54.346640Z",
     "end_time": "2023-05-13T19:50:54.362194Z"
    }
   }
  },
  {
   "cell_type": "code",
   "execution_count": 14,
   "outputs": [],
   "source": [
    "# drop the specified columns\n",
    "wiki_generated = data_2.drop(columns=['generated_text','generated_intro_len'])"
   ],
   "metadata": {
    "collapsed": false,
    "ExecuteTime": {
     "start_time": "2023-05-13T19:50:55.218608Z",
     "end_time": "2023-05-13T19:50:55.234228Z"
    }
   }
  },
  {
   "cell_type": "code",
   "execution_count": 15,
   "outputs": [],
   "source": [
    "# add a new column with all values equal to zero\n",
    "wiki_generated = wiki_generated.assign(new_col=1)\n",
    "# rename the 'output' column to 'new_output'\n",
    "wiki_generated = wiki_generated.rename(columns={'new_col': 'output'})"
   ],
   "metadata": {
    "collapsed": false,
    "ExecuteTime": {
     "start_time": "2023-05-13T19:50:56.036975Z",
     "end_time": "2023-05-13T19:50:56.130712Z"
    }
   }
  },
  {
   "cell_type": "code",
   "execution_count": 16,
   "outputs": [
    {
     "data": {
      "text/plain": "                                          wiki_intro  wiki_intro_len  output\n0  Sexhow railway station was a railway station b...             174       1\n1  In Finnish folklore, all places and things, an...             187       1",
      "text/html": "<div>\n<style scoped>\n    .dataframe tbody tr th:only-of-type {\n        vertical-align: middle;\n    }\n\n    .dataframe tbody tr th {\n        vertical-align: top;\n    }\n\n    .dataframe thead th {\n        text-align: right;\n    }\n</style>\n<table border=\"1\" class=\"dataframe\">\n  <thead>\n    <tr style=\"text-align: right;\">\n      <th></th>\n      <th>wiki_intro</th>\n      <th>wiki_intro_len</th>\n      <th>output</th>\n    </tr>\n  </thead>\n  <tbody>\n    <tr>\n      <th>0</th>\n      <td>Sexhow railway station was a railway station b...</td>\n      <td>174</td>\n      <td>1</td>\n    </tr>\n    <tr>\n      <th>1</th>\n      <td>In Finnish folklore, all places and things, an...</td>\n      <td>187</td>\n      <td>1</td>\n    </tr>\n  </tbody>\n</table>\n</div>"
     },
     "execution_count": 16,
     "metadata": {},
     "output_type": "execute_result"
    }
   ],
   "source": [
    "wiki_generated.head(2)"
   ],
   "metadata": {
    "collapsed": false,
    "ExecuteTime": {
     "start_time": "2023-05-13T19:50:57.627246Z",
     "end_time": "2023-05-13T19:50:57.689703Z"
    }
   }
  },
  {
   "cell_type": "markdown",
   "source": [
    "# Renaming the Dataset to make them Uniform"
   ],
   "metadata": {
    "collapsed": false
   }
  },
  {
   "cell_type": "code",
   "execution_count": 17,
   "outputs": [],
   "source": [
    "# rename the 'wiki_intro' and 'wiki_intro_len' columns to 'Text' and 'len'\n",
    "wiki_generated = wiki_generated.rename(columns={'wiki_intro': 'Text', 'wiki_intro_len': 'len'})\n"
   ],
   "metadata": {
    "collapsed": false,
    "ExecuteTime": {
     "start_time": "2023-05-13T19:50:59.320094Z",
     "end_time": "2023-05-13T19:50:59.351354Z"
    }
   }
  },
  {
   "cell_type": "code",
   "execution_count": 18,
   "outputs": [
    {
     "data": {
      "text/plain": "                                                     Text  len  output\n149998  Vossius Gymnasium is a public gymnasium in Ams...  168       1\n149999  Simone Stratigo (, Symeon Filippos Stratigos; ...  153       1",
      "text/html": "<div>\n<style scoped>\n    .dataframe tbody tr th:only-of-type {\n        vertical-align: middle;\n    }\n\n    .dataframe tbody tr th {\n        vertical-align: top;\n    }\n\n    .dataframe thead th {\n        text-align: right;\n    }\n</style>\n<table border=\"1\" class=\"dataframe\">\n  <thead>\n    <tr style=\"text-align: right;\">\n      <th></th>\n      <th>Text</th>\n      <th>len</th>\n      <th>output</th>\n    </tr>\n  </thead>\n  <tbody>\n    <tr>\n      <th>149998</th>\n      <td>Vossius Gymnasium is a public gymnasium in Ams...</td>\n      <td>168</td>\n      <td>1</td>\n    </tr>\n    <tr>\n      <th>149999</th>\n      <td>Simone Stratigo (, Symeon Filippos Stratigos; ...</td>\n      <td>153</td>\n      <td>1</td>\n    </tr>\n  </tbody>\n</table>\n</div>"
     },
     "execution_count": 18,
     "metadata": {},
     "output_type": "execute_result"
    }
   ],
   "source": [
    "wiki_generated.tail(2)"
   ],
   "metadata": {
    "collapsed": false,
    "ExecuteTime": {
     "start_time": "2023-05-13T19:51:00.198180Z",
     "end_time": "2023-05-13T19:51:00.245044Z"
    }
   }
  },
  {
   "cell_type": "code",
   "execution_count": 19,
   "outputs": [],
   "source": [
    "\n",
    "# rename the 'wiki_intro' and 'wiki_intro_len' columns to 'Text' and 'len'\n",
    "AI_generated = AI_generated.rename(columns={'generated_text': 'Text', 'generated_intro_len': 'len'})\n"
   ],
   "metadata": {
    "collapsed": false,
    "ExecuteTime": {
     "start_time": "2023-05-13T19:51:01.587435Z",
     "end_time": "2023-05-13T19:51:01.681169Z"
    }
   }
  },
  {
   "cell_type": "code",
   "execution_count": 20,
   "outputs": [
    {
     "data": {
      "text/plain": "        len                                               Text  output\n149998  108  Vossius Gymnasium is a public gymnasium in the...       0\n149999  132  Simone Stratigo (, Symeon Filippos Stratigos; ...       0",
      "text/html": "<div>\n<style scoped>\n    .dataframe tbody tr th:only-of-type {\n        vertical-align: middle;\n    }\n\n    .dataframe tbody tr th {\n        vertical-align: top;\n    }\n\n    .dataframe thead th {\n        text-align: right;\n    }\n</style>\n<table border=\"1\" class=\"dataframe\">\n  <thead>\n    <tr style=\"text-align: right;\">\n      <th></th>\n      <th>len</th>\n      <th>Text</th>\n      <th>output</th>\n    </tr>\n  </thead>\n  <tbody>\n    <tr>\n      <th>149998</th>\n      <td>108</td>\n      <td>Vossius Gymnasium is a public gymnasium in the...</td>\n      <td>0</td>\n    </tr>\n    <tr>\n      <th>149999</th>\n      <td>132</td>\n      <td>Simone Stratigo (, Symeon Filippos Stratigos; ...</td>\n      <td>0</td>\n    </tr>\n  </tbody>\n</table>\n</div>"
     },
     "execution_count": 20,
     "metadata": {},
     "output_type": "execute_result"
    }
   ],
   "source": [
    "AI_generated.tail(2)"
   ],
   "metadata": {
    "collapsed": false,
    "ExecuteTime": {
     "start_time": "2023-05-13T19:51:02.255067Z",
     "end_time": "2023-05-13T19:51:02.333171Z"
    }
   }
  },
  {
   "cell_type": "markdown",
   "source": [
    "# Adding Both Dataset Together"
   ],
   "metadata": {
    "collapsed": false
   }
  },
  {
   "cell_type": "code",
   "execution_count": 21,
   "outputs": [],
   "source": [
    "# concatenate the two DataFrames vertically\n",
    "Data = pd.concat([AI_generated, wiki_generated], axis=0, ignore_index=True)\n"
   ],
   "metadata": {
    "collapsed": false,
    "ExecuteTime": {
     "start_time": "2023-05-13T19:51:03.682388Z",
     "end_time": "2023-05-13T19:51:03.732817Z"
    }
   }
  },
  {
   "cell_type": "code",
   "execution_count": 22,
   "outputs": [
    {
     "data": {
      "text/plain": "        len                                               Text  output\n299998  168  Vossius Gymnasium is a public gymnasium in Ams...       1\n299999  153  Simone Stratigo (, Symeon Filippos Stratigos; ...       1",
      "text/html": "<div>\n<style scoped>\n    .dataframe tbody tr th:only-of-type {\n        vertical-align: middle;\n    }\n\n    .dataframe tbody tr th {\n        vertical-align: top;\n    }\n\n    .dataframe thead th {\n        text-align: right;\n    }\n</style>\n<table border=\"1\" class=\"dataframe\">\n  <thead>\n    <tr style=\"text-align: right;\">\n      <th></th>\n      <th>len</th>\n      <th>Text</th>\n      <th>output</th>\n    </tr>\n  </thead>\n  <tbody>\n    <tr>\n      <th>299998</th>\n      <td>168</td>\n      <td>Vossius Gymnasium is a public gymnasium in Ams...</td>\n      <td>1</td>\n    </tr>\n    <tr>\n      <th>299999</th>\n      <td>153</td>\n      <td>Simone Stratigo (, Symeon Filippos Stratigos; ...</td>\n      <td>1</td>\n    </tr>\n  </tbody>\n</table>\n</div>"
     },
     "execution_count": 22,
     "metadata": {},
     "output_type": "execute_result"
    }
   ],
   "source": [
    "Data.tail(2)"
   ],
   "metadata": {
    "collapsed": false,
    "ExecuteTime": {
     "start_time": "2023-05-13T19:51:04.327264Z",
     "end_time": "2023-05-13T19:51:04.342921Z"
    }
   }
  },
  {
   "cell_type": "code",
   "execution_count": 23,
   "outputs": [
    {
     "data": {
      "text/plain": "len       0\nText      0\noutput    0\ndtype: int64"
     },
     "execution_count": 23,
     "metadata": {},
     "output_type": "execute_result"
    }
   ],
   "source": [
    "Data.isnull().sum()"
   ],
   "metadata": {
    "collapsed": false,
    "ExecuteTime": {
     "start_time": "2023-05-13T19:51:05.247387Z",
     "end_time": "2023-05-13T19:51:05.591090Z"
    }
   }
  },
  {
   "cell_type": "code",
   "execution_count": 24,
   "outputs": [],
   "source": [
    "# shuffle the rows randomly before training to avoid over fitting\n",
    "data = Data.sample(frac=1)"
   ],
   "metadata": {
    "collapsed": false,
    "ExecuteTime": {
     "start_time": "2023-05-13T19:51:06.472612Z",
     "end_time": "2023-05-13T19:51:06.581959Z"
    }
   }
  },
  {
   "cell_type": "code",
   "execution_count": 25,
   "outputs": [
    {
     "data": {
      "text/plain": "        len                                               Text  output\n106327   95  The American Hairless Terrier is a breed of te...       0\n91423    91  Cuminestown is a village in the Formartine Val...       0\n262999  184  MeeK (birth name Stephane-Franck Pascal; born ...       1",
      "text/html": "<div>\n<style scoped>\n    .dataframe tbody tr th:only-of-type {\n        vertical-align: middle;\n    }\n\n    .dataframe tbody tr th {\n        vertical-align: top;\n    }\n\n    .dataframe thead th {\n        text-align: right;\n    }\n</style>\n<table border=\"1\" class=\"dataframe\">\n  <thead>\n    <tr style=\"text-align: right;\">\n      <th></th>\n      <th>len</th>\n      <th>Text</th>\n      <th>output</th>\n    </tr>\n  </thead>\n  <tbody>\n    <tr>\n      <th>106327</th>\n      <td>95</td>\n      <td>The American Hairless Terrier is a breed of te...</td>\n      <td>0</td>\n    </tr>\n    <tr>\n      <th>91423</th>\n      <td>91</td>\n      <td>Cuminestown is a village in the Formartine Val...</td>\n      <td>0</td>\n    </tr>\n    <tr>\n      <th>262999</th>\n      <td>184</td>\n      <td>MeeK (birth name Stephane-Franck Pascal; born ...</td>\n      <td>1</td>\n    </tr>\n  </tbody>\n</table>\n</div>"
     },
     "execution_count": 25,
     "metadata": {},
     "output_type": "execute_result"
    }
   ],
   "source": [
    "data.head(3)"
   ],
   "metadata": {
    "collapsed": false,
    "ExecuteTime": {
     "start_time": "2023-05-13T19:51:07.293013Z",
     "end_time": "2023-05-13T19:51:07.339875Z"
    }
   }
  },
  {
   "cell_type": "markdown",
   "source": [
    "# Feature Extraction"
   ],
   "metadata": {
    "collapsed": false
   }
  },
  {
   "cell_type": "code",
   "execution_count": 30,
   "outputs": [],
   "source": [
    " data['text_length'] = data['Text'].apply(len)\n",
    "# Extracting TF-IDF features from the text\n",
    "vectorizer = TfidfVectorizer(max_features=1000)\n",
    "tfidf_features = vectorizer.fit_transform(data['Text']).toarray()\n",
    "# Combining text length and TF-IDF features\n",
    "features = np.hstack((data[['text_length']].values, tfidf_features))\n",
    "labels = data['label']"
   ],
   "metadata": {
    "collapsed": false,
    "ExecuteTime": {
     "start_time": "2023-05-13T19:55:05.878617Z",
     "end_time": "2023-05-13T19:55:06.116323Z"
    }
   }
  },
  {
   "cell_type": "markdown",
   "source": [
    "# Training the Model"
   ],
   "metadata": {
    "collapsed": false
   }
  },
  {
   "cell_type": "code",
   "execution_count": 156,
   "outputs": [],
   "source": [
    "# Split the data into training and testing sets\n",
    "X_train, X_test, y_train, y_test, len_train, len_test = train_test_split(data[['Text', 'len']], data['output'], test_size=0.2, random_state=0)"
   ],
   "metadata": {
    "collapsed": false,
    "ExecuteTime": {
     "start_time": "2023-05-13T12:00:39.656485Z",
     "end_time": "2023-05-13T12:00:40.781276Z"
    }
   }
  },
  {
   "cell_type": "code",
   "execution_count": 9,
   "outputs": [],
   "source": [
    "# Extract features from the text\n",
    "vectorizer = TfidfVectorizer(stop_words='english', max_features=10000)\n",
    "X_train_tfidf = vectorizer.fit_transform(X_train)\n",
    "X_test_tfidf = vectorizer.transform(X_test)"
   ],
   "metadata": {
    "collapsed": false,
    "ExecuteTime": {
     "start_time": "2023-05-12T16:53:53.866087Z",
     "end_time": "2023-05-12T16:54:45.263648Z"
    }
   }
  },
  {
   "cell_type": "code",
   "execution_count": 10,
   "outputs": [],
   "source": [
    "param = {\n",
    "    'max_depth': 4,\n",
    "    'eta':0.3,\n",
    "    'objective':'multi:softmax',\n",
    "    'num_class':3}\n",
    "epochs = 5"
   ],
   "metadata": {
    "collapsed": false,
    "ExecuteTime": {
     "start_time": "2023-05-12T16:56:26.000527Z",
     "end_time": "2023-05-12T16:56:26.028376Z"
    }
   }
  },
  {
   "cell_type": "code",
   "execution_count": null,
   "outputs": [],
   "source": [
    "# Train a machine learning model\n",
    "model = XGBClassifier(use_label_encoder=False, eval_metric='mlogloss')\n",
    "model.fit(X_train_tfidf, y_train)"
   ],
   "metadata": {
    "collapsed": false,
    "ExecuteTime": {
     "start_time": "2023-05-13T20:48:35.661387Z",
     "end_time": "2023-05-13T20:48:35.716420Z"
    }
   }
  },
  {
   "cell_type": "code",
   "execution_count": null,
   "outputs": [],
   "source": [
    "y_pred = model.predict(X_test)\n",
    "accuracy = accuracy_score(y_test, y_pred)\n",
    "cm = confusion_matrix(y_test, y_pred)\n",
    "report = classification_report(y_test, y_pred)\n",
    "\n",
    "print(\"Accuracy: \", accuracy)\n",
    "print(\"Confusion Matrix: \\n\", cm)\n",
    "print(\"Classification Report: \\n\", report)\n"
   ],
   "metadata": {
    "collapsed": false,
    "ExecuteTime": {
     "start_time": "2023-05-13T20:49:18.606845Z",
     "end_time": "2023-05-13T20:49:18.638113Z"
    }
   }
  }
 ],
 "metadata": {
  "kernelspec": {
   "display_name": "Python 3",
   "language": "python",
   "name": "python3"
  },
  "language_info": {
   "codemirror_mode": {
    "name": "ipython",
    "version": 2
   },
   "file_extension": ".py",
   "mimetype": "text/x-python",
   "name": "python",
   "nbconvert_exporter": "python",
   "pygments_lexer": "ipython2",
   "version": "2.7.6"
  }
 },
 "nbformat": 4,
 "nbformat_minor": 0
}
